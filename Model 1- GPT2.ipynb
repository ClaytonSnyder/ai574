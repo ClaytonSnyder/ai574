{
 "cells": [
  {
   "cell_type": "markdown",
   "metadata": {},
   "source": [
    "# Configuring Notebook\n",
    "\n",
    "1. Follow the \"GETTING STARTED\" steps laid out in the README first\n",
    "1. Click \"Select Kernel\" in upper right corner of this pane\n",
    "1. Click \"Python Environments...\"\n",
    "1. Click \".venv (Python 3.12.3)\"\n",
    "1. Click \"Run All\"\n",
    "1. When prompted if you want to install ipykernel, click \"Install\""
   ]
  },
  {
   "cell_type": "code",
   "execution_count": 1,
   "metadata": {},
   "outputs": [
    {
     "name": "stderr",
     "output_type": "stream",
     "text": [
      "[nltk_data] Downloading package punkt to /home/ubuntu/nltk_data...\n",
      "[nltk_data]   Package punkt is already up-to-date!\n"
     ]
    },
    {
     "name": "stdout",
     "output_type": "stream",
     "text": [
      "cuda\n"
     ]
    }
   ],
   "source": [
    "import torch\n",
    "import numpy as np\n",
    "import pandas as pd\n",
    "\n",
    "from fy_bot.project import create_project, delete_project, project_exists\n",
    "from fy_bot.datasource import add_document, compile_corpus, add_youtube_video\n",
    "from fy_bot.context_generation import generate_context_question\n",
    "from fy_bot.context_generation import format_data\n",
    "from fy_bot.gpt2_model import train as train, chat\n",
    "\n",
    "import matplotlib.pyplot as plt\n",
    "\n",
    "torch.cuda.empty_cache()\n",
    "\n",
    "device = torch.device(\"cuda\" if torch.cuda.is_available() else \"cpu\")\n",
    "print(device)\n",
    "\n",
    "PROJECT_NAME = \"tax_examples\""
   ]
  },
  {
   "cell_type": "markdown",
   "metadata": {},
   "source": [
    "## First we create a project\n",
    "\n",
    "Projects house all of the data for an experiment including all of the raw datasources, model, weights/biases, context (questions/answers)"
   ]
  },
  {
   "cell_type": "code",
   "execution_count": 37,
   "metadata": {},
   "outputs": [
    {
     "name": "stderr",
     "output_type": "stream",
     "text": [
      "2024-08-03 23:49:13:INFO:Deleting project: tax_examples...\n",
      "2024-08-03 23:49:13:INFO:Project deleted.\n",
      "2024-08-03 23:49:13:INFO:Creating new project: tax_examples...\n",
      "2024-08-03 23:49:13:INFO:Project Created.\n"
     ]
    }
   ],
   "source": [
    "# This notebook will start from scratch\n",
    "# So, if the project already exists delete it\n",
    "# and create a new project\n",
    "if project_exists(PROJECT_NAME):\n",
    "    delete_project(PROJECT_NAME)\n",
    "\n",
    "create_project(PROJECT_NAME)"
   ]
  },
  {
   "cell_type": "markdown",
   "metadata": {},
   "source": [
    "## Next we add data sources to the project\n",
    "\n",
    "We use add_document with a url to download the ebook or pdf. Once the document is downloaded it is placed in the downloads folder of the project. The document is then scraped for raw text. The raw text is saved in the raw folder of the project.\n",
    "\n",
    "For YouTube video transcripts the add_youtube_video method is called with a video id. Since the transcripts come without punctuation (and lose some context because of this), the transcript is ran through the \"oliverguhr/fullstop-punctuation-multilang-large\" model to put some punctuation in place. Once punctuation is added to the transcript we store this text in the raw folder of the project."
   ]
  },
  {
   "cell_type": "code",
   "execution_count": 38,
   "metadata": {},
   "outputs": [
    {
     "name": "stderr",
     "output_type": "stream",
     "text": [
      "2024-08-03 23:49:13:INFO:Adding document https://notis-consulting.net/sites/default/files/Documents/Personal%20Financial%20Planning%20Guide.pdf to project tax_examples\n",
      "2024-08-03 23:49:14:INFO:File downloaded successfully...\n",
      "2024-08-03 23:49:15:INFO:Raw text successfully extracted.\n",
      "2024-08-03 23:49:15:INFO:Adding document https://scc.virginia.gov/getattachment/6c7f5ba0-a15d-4bcc-93a3-56041dabd97f/16_iptbasics.pdf to project tax_examples\n",
      "2024-08-03 23:49:16:INFO:File downloaded successfully...\n",
      "2024-08-03 23:49:16:INFO:Raw text successfully extracted.\n",
      "2024-08-03 23:49:16:INFO:Adding document https://www.dol.gov/sites/dolgov/files/legacy-files/ebsa/about-ebsa/our-activities/resource-center/publications/savings-fitness.pdf to project tax_examples\n",
      "2024-08-03 23:49:16:INFO:File downloaded successfully...\n",
      "2024-08-03 23:49:16:INFO:Raw text successfully extracted.\n",
      "2024-08-03 23:49:16:INFO:Adding document https://g.foolcdn.com/img/editorial/external_m/book/motleyfool-investingforbeginners.pdf to project tax_examples\n",
      "2024-08-03 23:49:17:INFO:File downloaded successfully...\n",
      "2024-08-03 23:49:17:INFO:Raw text successfully extracted.\n",
      "2024-08-03 23:49:17:INFO:Adding document https://www.jpmorgan.com/content/dam/jpm/securities/documents/guide-to-mutual-fund-investing.pdf to project tax_examples\n",
      "2024-08-03 23:49:17:INFO:File downloaded successfully...\n",
      "2024-08-03 23:49:17:INFO:Raw text successfully extracted.\n",
      "2024-08-03 23:49:17:INFO:Adding document https://dfr.oregon.gov/help/outreach-education/Documents/publications/2860-Wise-investing.pdf to project tax_examples\n",
      "2024-08-03 23:49:18:INFO:File downloaded successfully...\n",
      "2024-08-03 23:49:18:INFO:Raw text successfully extracted.\n",
      "2024-08-03 23:49:18:INFO:Adding document https://corporate.vanguard.com/content/dam/corp/research/pdf/vanguards_principles_for_investing_success.pdf to project tax_examples\n",
      "2024-08-03 23:49:18:INFO:File downloaded successfully...\n",
      "2024-08-03 23:49:19:INFO:Raw text successfully extracted.\n",
      "2024-08-03 23:49:19:INFO:Adding document https://yis.org/wp-content/uploads/2016/10/Stock-Investing-101-eBook.pdf to project tax_examples\n",
      "2024-08-03 23:49:19:INFO:File downloaded successfully...\n",
      "2024-08-03 23:49:20:INFO:Raw text successfully extracted.\n",
      "2024-08-03 23:49:20:INFO:Adding document https://www.plainenglish.co.uk/files/financialguide.pdf to project tax_examples\n",
      "2024-08-03 23:49:20:INFO:File downloaded successfully...\n",
      "2024-08-03 23:49:20:INFO:Raw text successfully extracted.\n",
      "2024-08-03 23:49:20:INFO:Adding document https://www.securities.nd.gov/sites/www/files/documents/investor-alerts/8%20Beginner%20Investing%20Tips%20for%20Students.pdf to project tax_examples\n",
      "2024-08-03 23:49:21:INFO:File downloaded successfully...\n",
      "2024-08-03 23:49:21:INFO:Raw text successfully extracted.\n",
      "2024-08-03 23:49:21:INFO:Adding document https://finred.usalearning.gov/assets/downloads/Basic%20Investing.pdf to project tax_examples\n",
      "2024-08-03 23:49:21:INFO:File downloaded successfully...\n",
      "2024-08-03 23:49:21:INFO:Raw text successfully extracted.\n",
      "2024-08-03 23:49:21:INFO:Adding document https://www.tn.gov/content/dam/tn/commerce/documents/securities/posts/The-Basics-of-Savings-and-Investing.pdf to project tax_examples\n",
      "2024-08-03 23:49:22:INFO:File downloaded successfully...\n",
      "2024-08-03 23:49:22:INFO:Raw text successfully extracted.\n",
      "2024-08-03 23:49:22:INFO:Adding YouTube video hWwTzqCmdI4 to project tax_examples\n",
      "/opt/conda/envs/pytorch/lib/python3.11/site-packages/transformers/pipelines/token_classification.py:168: UserWarning: `grouped_entities` is deprecated and will be removed in version v5.0.0, defaulted to `aggregation_strategy=\"AggregationStrategy.NONE\"` instead.\n",
      "  warnings.warn(\n",
      "2024-08-03 23:49:25:INFO:Raw text successfully extracted from transcript.\n",
      "2024-08-03 23:49:25:INFO:Adding YouTube video rOGKsc-kHoc to project tax_examples\n",
      "2024-08-03 23:49:27:INFO:Raw text successfully extracted from transcript.\n",
      "2024-08-03 23:49:28:INFO:Adding YouTube video AwEvMxxRIy8 to project tax_examples\n",
      "2024-08-03 23:49:30:INFO:Raw text successfully extracted from transcript.\n",
      "2024-08-03 23:49:30:INFO:Adding YouTube video -DCOLzYeKRM to project tax_examples\n",
      "2024-08-03 23:49:33:INFO:Raw text successfully extracted from transcript.\n",
      "2024-08-03 23:49:33:INFO:Adding YouTube video URES59zcNyg to project tax_examples\n",
      "2024-08-03 23:49:36:INFO:Raw text successfully extracted from transcript.\n",
      "2024-08-03 23:49:36:INFO:Adding YouTube video FRMVkdYpjYU to project tax_examples\n",
      "2024-08-03 23:49:38:INFO:Raw text successfully extracted from transcript.\n",
      "2024-08-03 23:49:38:INFO:Adding document https://d18rn0p25nwr6d.cloudfront.net/CIK-0001045810/1cbe8fe7-e08a-46e3-8dcc-b429fc06c1a4.pdf to project tax_examples\n",
      "2024-08-03 23:49:39:INFO:File downloaded successfully...\n",
      "2024-08-03 23:49:39:INFO:Raw text successfully extracted.\n",
      "2024-08-03 23:49:39:INFO:Adding document https://ir.tesla.com/_flysystem/s3/sec/000162828024002390/tsla-20231231-gen.pdf to project tax_examples\n",
      "2024-08-03 23:49:40:INFO:File downloaded successfully...\n",
      "2024-08-03 23:49:40:INFO:Raw text successfully extracted.\n",
      "2024-08-03 23:49:40:INFO:Adding document https://abc.xyz/assets/43/44/675b83d7455885c4615d848d52a4/goog-10-k-2023.pdf to project tax_examples\n",
      "2024-08-03 23:49:41:INFO:File downloaded successfully...\n",
      "2024-08-03 23:49:41:INFO:Raw text successfully extracted.\n",
      "2024-08-03 23:49:41:INFO:Adding document https://d18rn0p25nwr6d.cloudfront.net/CIK-0001018724/336d8745-ea82-40a5-9acc-1a89df23d0f3.pdf to project tax_examples\n",
      "2024-08-03 23:49:41:INFO:File downloaded successfully...\n",
      "2024-08-03 23:49:41:INFO:Raw text successfully extracted.\n",
      "2024-08-03 23:49:41:INFO:Adding document https://d18rn0p25nwr6d.cloudfront.net/CIK-0001326801/c7318154-f6ae-4866-89fa-f0c589f2ee3d.pdf to project tax_examples\n",
      "2024-08-03 23:49:41:INFO:File downloaded successfully...\n",
      "2024-08-03 23:49:42:INFO:Raw text successfully extracted.\n",
      "2024-08-03 23:49:42:INFO:Adding document https://s2.q4cdn.com/299287126/files/doc_financials/2024/q1/Q124-Amazon-Transcript-FINAL.pdf to project tax_examples\n",
      "2024-08-03 23:49:42:INFO:File downloaded successfully...\n",
      "2024-08-03 23:49:42:INFO:Raw text successfully extracted.\n",
      "2024-08-03 23:49:42:INFO:Adding document https://ir.tesla.com/_flysystem/s3/sec/000110465924051405/tm2326076d20_defa14a-gen.pdf to project tax_examples\n",
      "2024-08-03 23:49:42:INFO:File downloaded successfully...\n",
      "2024-08-03 23:49:42:INFO:Raw text successfully extracted.\n",
      "2024-08-03 23:49:42:INFO:Adding document https://www.irs.gov/pub/ebook/p17.epub to project tax_examples\n",
      "2024-08-03 23:49:43:INFO:File downloaded successfully...\n",
      "/opt/conda/envs/pytorch/lib/python3.11/site-packages/ebooklib/epub.py:1395: UserWarning: In the future version we will turn default option ignore_ncx to True.\n",
      "  warnings.warn('In the future version we will turn default option ignore_ncx to True.')\n",
      "/opt/conda/envs/pytorch/lib/python3.11/site-packages/ebooklib/epub.py:1423: FutureWarning: This search incorrectly ignores the root element, and will be fixed in a future version.  If you rely on the current behaviour, change it to './/xmlns:rootfile[@media-type]'\n",
      "  for root_file in tree.findall('//xmlns:rootfile[@media-type]', namespaces={'xmlns': NAMESPACES['CONTAINERNS']}):\n",
      "2024-08-03 23:49:44:INFO:Raw text successfully extracted.\n",
      "2024-08-03 23:49:44:INFO:Adding document https://www.irs.gov/pub/ebook/p15t.epub to project tax_examples\n",
      "2024-08-03 23:49:44:INFO:File downloaded successfully...\n",
      "2024-08-03 23:49:47:INFO:Raw text successfully extracted.\n",
      "2024-08-03 23:49:47:INFO:Adding document https://www.irs.gov/pub/ebook/p3.epub to project tax_examples\n",
      "2024-08-03 23:49:47:INFO:File downloaded successfully...\n",
      "2024-08-03 23:49:47:INFO:Raw text successfully extracted.\n"
     ]
    }
   ],
   "source": [
    "# Adding documents to the project downloads this file\n",
    "# and puts it in the \"downloads\" folder of the project\n",
    "# It then extracts the raw text from the downloaded file\n",
    "# and saves it in the \"raw\" folder of the project\n",
    "# Beginner tips\n",
    "add_document(PROJECT_NAME, \"https://notis-consulting.net/sites/default/files/Documents/Personal%20Financial%20Planning%20Guide.pdf\")\n",
    "add_document(PROJECT_NAME, \"https://scc.virginia.gov/getattachment/6c7f5ba0-a15d-4bcc-93a3-56041dabd97f/16_iptbasics.pdf\")\n",
    "add_document(PROJECT_NAME, \"https://www.dol.gov/sites/dolgov/files/legacy-files/ebsa/about-ebsa/our-activities/resource-center/publications/savings-fitness.pdf\")\n",
    "add_document(PROJECT_NAME, \"https://g.foolcdn.com/img/editorial/external_m/book/motleyfool-investingforbeginners.pdf\")\n",
    "add_document(PROJECT_NAME, \"https://www.jpmorgan.com/content/dam/jpm/securities/documents/guide-to-mutual-fund-investing.pdf\")\n",
    "add_document(PROJECT_NAME, \"https://dfr.oregon.gov/help/outreach-education/Documents/publications/2860-Wise-investing.pdf\")\n",
    "add_document(PROJECT_NAME, \"https://corporate.vanguard.com/content/dam/corp/research/pdf/vanguards_principles_for_investing_success.pdf\")\n",
    "add_document(PROJECT_NAME, \"https://yis.org/wp-content/uploads/2016/10/Stock-Investing-101-eBook.pdf\")\n",
    "add_document(PROJECT_NAME, \"https://www.plainenglish.co.uk/files/financialguide.pdf\")\n",
    "add_document(PROJECT_NAME, \"https://www.securities.nd.gov/sites/www/files/documents/investor-alerts/8%20Beginner%20Investing%20Tips%20for%20Students.pdf\")\n",
    "add_document(PROJECT_NAME, \"https://finred.usalearning.gov/assets/downloads/Basic%20Investing.pdf\")\n",
    "add_document(PROJECT_NAME, \"https://www.tn.gov/content/dam/tn/commerce/documents/securities/posts/The-Basics-of-Savings-and-Investing.pdf\")\n",
    "\n",
    "# Andrei Jikh\n",
    "# How to invest for teenagers\n",
    "add_youtube_video(PROJECT_NAME, \"hWwTzqCmdI4\")\n",
    "# How to invest your first $1000\n",
    "add_youtube_video(PROJECT_NAME, \"rOGKsc-kHoc\")\n",
    "# How to save 10k in 2024\n",
    "add_youtube_video(PROJECT_NAME, \"AwEvMxxRIy8\")\n",
    "# Top 10 best stocks of the S&P500\n",
    "add_youtube_video(PROJECT_NAME, \"-DCOLzYeKRM\")\n",
    "\n",
    "# Ryan Scribner\n",
    "# How to retire at 30 living off investments\n",
    "add_youtube_video(PROJECT_NAME, \"URES59zcNyg\")\n",
    "# how to buy stocks for beginners\n",
    "add_youtube_video(PROJECT_NAME, \"FRMVkdYpjYU\")\n",
    "\n",
    "# Tesla\n",
    "add_document(PROJECT_NAME, \"https://d18rn0p25nwr6d.cloudfront.net/CIK-0001045810/1cbe8fe7-e08a-46e3-8dcc-b429fc06c1a4.pdf\")\n",
    "add_document(PROJECT_NAME, \"https://ir.tesla.com/_flysystem/s3/sec/000162828024002390/tsla-20231231-gen.pdf\")\n",
    "add_document(PROJECT_NAME, \"https://abc.xyz/assets/43/44/675b83d7455885c4615d848d52a4/goog-10-k-2023.pdf\")\n",
    "add_document(PROJECT_NAME, \"https://d18rn0p25nwr6d.cloudfront.net/CIK-0001018724/336d8745-ea82-40a5-9acc-1a89df23d0f3.pdf\")\n",
    "add_document(PROJECT_NAME, \"https://d18rn0p25nwr6d.cloudfront.net/CIK-0001326801/c7318154-f6ae-4866-89fa-f0c589f2ee3d.pdf\")\n",
    "add_document(PROJECT_NAME, \"https://s2.q4cdn.com/299287126/files/doc_financials/2024/q1/Q124-Amazon-Transcript-FINAL.pdf\")\n",
    "add_document(PROJECT_NAME, \"https://ir.tesla.com/_flysystem/s3/sec/000110465924051405/tm2326076d20_defa14a-gen.pdf\")\n",
    "\n",
    "# Tax publications\n",
    "# https://www.irs.gov/forms-pubs/ebook\n",
    "\n",
    "# Your Federal Income Tax (For Individuals)\n",
    "add_document(PROJECT_NAME, \"https://www.irs.gov/pub/ebook/p17.epub\")\n",
    "\n",
    "# Federal Income Tax Withholding Methods\n",
    "add_document(PROJECT_NAME, \"https://www.irs.gov/pub/ebook/p15t.epub\")\n",
    "\n",
    "# Armed Forces' Tax Guide\n",
    "add_document(PROJECT_NAME, \"https://www.irs.gov/pub/ebook/p3.epub\")"
   ]
  },
  {
   "cell_type": "markdown",
   "metadata": {},
   "source": [
    "## Compile the corpus\n",
    "\n",
    "Since you can add multiple documents to a project we must compile the corpus. During compilation all raw texts are aggregated and cleaned.During the cleaning all sentences that are syntactically invalid are removed. We do this cleaning because we are possibly scraping pdfs/ebooks/transcripts/etc so there will be a bunch of non-sensical text that was scraped. We discard that and we are left with only syntactically valid sentences. The logic for this cleaning can be found in the __is_syntactically_correct method in fy_bot/datasource.py. We determine if the sentence is valid based on its composition and perplexity score. Any sentences that violate composition rules or do not meet a perplexity threshold are removed. Additional cleaning is done by removing non-punctuation special characters, sentences consisting of only digits, useless whitespace is removed, etc. The logic for this cleaning can be found in the compile_corpus method in fy_bot/datasource.py\n",
    "\n",
    "The output of the compilation is a corpus consisteing of an aggregation of the cleaned raw files."
   ]
  },
  {
   "cell_type": "code",
   "execution_count": 39,
   "metadata": {},
   "outputs": [
    {
     "name": "stderr",
     "output_type": "stream",
     "text": [
      "2024-08-03 23:49:47:INFO:Compiling corpus...\n",
      "Cleaning sentences in youtube.-DCOLzYeKRM.raw.txt: 100%|██████████| 111/111 [00:04<00:00, 23.45it/s]\n",
      "Cleaning sentences in 2860-Wise-investing.pdf.raw.txt: 100%|██████████| 861/861 [00:36<00:00, 23.31it/s]\n",
      "Cleaning sentences in Q124-Amazon-Transcript-FINAL.pdf.raw.txt: 100%|██████████| 396/396 [00:19<00:00, 19.84it/s]\n",
      "Cleaning sentences in youtube.rOGKsc-kHoc.raw.txt: 100%|██████████| 303/303 [00:10<00:00, 27.94it/s]\n",
      "Cleaning sentences in youtube.AwEvMxxRIy8.raw.txt: 100%|██████████| 125/125 [00:05<00:00, 24.80it/s]\n",
      "Cleaning sentences in youtube.FRMVkdYpjYU.raw.txt: 100%|██████████| 159/159 [00:08<00:00, 19.64it/s]\n",
      "Cleaning sentences in 8%20Beginner%20Investing%20Tips%20for%20Students.pdf.raw.txt: 100%|██████████| 79/79 [00:03<00:00, 20.90it/s]\n",
      "Cleaning sentences in 16_iptbasics.pdf.raw.txt: 100%|██████████| 1955/1955 [01:09<00:00, 28.20it/s]\n",
      "Cleaning sentences in vanguards_principles_for_investing_success.pdf.raw.txt: 100%|██████████| 503/503 [00:17<00:00, 29.41it/s] \n",
      "Cleaning sentences in 1cbe8fe7-e08a-46e3-8dcc-b429fc06c1a4.pdf.raw.txt: 100%|██████████| 1674/1674 [01:49<00:00, 15.24it/s]\n",
      "Cleaning sentences in Stock-Investing-101-eBook.pdf.raw.txt: 100%|██████████| 1644/1644 [00:56<00:00, 29.30it/s]\n",
      "Cleaning sentences in Personal%20Financial%20Planning%20Guide.pdf.raw.txt: 100%|██████████| 8799/8799 [06:12<00:00, 23.65it/s]\n",
      "Cleaning sentences in p17.epub.raw.txt: 100%|██████████| 8343/8343 [04:48<00:00, 28.90it/s] \n",
      "Cleaning sentences in youtube.hWwTzqCmdI4.raw.txt: 100%|██████████| 186/186 [00:07<00:00, 24.77it/s]\n",
      "Cleaning sentences in savings-fitness.pdf.raw.txt: 100%|██████████| 853/853 [00:35<00:00, 23.82it/s]\n",
      "Cleaning sentences in tm2326076d20_defa14a-gen.pdf.raw.txt: 100%|██████████| 34/34 [00:02<00:00, 15.77it/s]\n",
      "Cleaning sentences in financialguide.pdf.raw.txt: 100%|██████████| 679/679 [00:24<00:00, 28.07it/s]\n",
      "Cleaning sentences in c7318154-f6ae-4866-89fa-f0c589f2ee3d.pdf.raw.txt: 100%|██████████| 2308/2308 [02:33<00:00, 15.07it/s]\n",
      "Cleaning sentences in Basic%20Investing.pdf.raw.txt: 100%|██████████| 89/89 [00:03<00:00, 25.33it/s]\n",
      "Cleaning sentences in The-Basics-of-Savings-and-Investing.pdf.raw.txt: 100%|██████████| 1944/1944 [01:06<00:00, 29.22it/s] \n",
      "Cleaning sentences in motleyfool-investingforbeginners.pdf.raw.txt: 100%|██████████| 929/929 [00:38<00:00, 23.97it/s]\n",
      "Cleaning sentences in goog-10-k-2023.pdf.raw.txt: 100%|██████████| 1682/1682 [01:35<00:00, 17.66it/s]\n",
      "Cleaning sentences in p3.epub.raw.txt: 100%|██████████| 1478/1478 [00:58<00:00, 25.12it/s]\n",
      "Cleaning sentences in youtube.URES59zcNyg.raw.txt: 100%|██████████| 89/89 [00:04<00:00, 19.50it/s]\n",
      "Cleaning sentences in 336d8745-ea82-40a5-9acc-1a89df23d0f3.pdf.raw.txt: 100%|██████████| 1151/1151 [01:07<00:00, 17.07it/s]\n",
      "Cleaning sentences in tsla-20231231-gen.pdf.raw.txt: 100%|██████████| 1952/1952 [02:02<00:00, 15.91it/s]\n",
      "Cleaning sentences in p15t.epub.raw.txt: 100%|██████████| 538/538 [00:21<00:00, 24.83it/s]\n",
      "Cleaning sentences in guide-to-mutual-fund-investing.pdf.raw.txt: 100%|██████████| 281/281 [00:15<00:00, 18.56it/s]\n",
      "2024-08-04 00:18:28:INFO:Corpus compilation complete.\n"
     ]
    }
   ],
   "source": [
    "# Compiling the corpus cleans all the raw data files and\n",
    "# saves the aggregated file to corpus.txt in the project folder.\n",
    "compile_corpus(PROJECT_NAME)"
   ]
  },
  {
   "cell_type": "markdown",
   "metadata": {},
   "source": [
    "## Create context\n",
    "\n",
    "To create a chatbot we need to train our model with context (i.e., question/answer dialog). Since all of our datasources we must generate this context as a preprocessing step. Currently, we do this using a pretrained T5 model (potsawee/t5-large-generation-squad-QuestionAnswer). The logic for the context generation can by found in fy_bot/content_generation.py. As part of this process three files are created: context.txt, questions.txt, answers.txt. context.txt is the context in question/answer format. answers.txt is just the answers. questions.txt is just the questions."
   ]
  },
  {
   "cell_type": "code",
   "execution_count": 41,
   "metadata": {},
   "outputs": [
    {
     "name": "stderr",
     "output_type": "stream",
     "text": [
      "2024-08-04 00:19:07:INFO:Generating context...\n",
      "2024-08-04 00:19:09:INFO:Generating Questions...\n",
      "Generating Question/Answers...:  61%|██████    | 1921/3169 [16:27<10:50,  1.92it/s]Token indices sequence length is longer than the specified maximum sequence length for this model (989 > 512). Running this sequence through the model will result in indexing errors\n",
      "Generating Question/Answers...: 100%|██████████| 3169/3169 [27:28<00:00,  1.92it/s]\n"
     ]
    }
   ],
   "source": [
    "torch.cuda.empty_cache()\n",
    "\n",
    "context = generate_context_question(PROJECT_NAME, device, batch_size=2)"
   ]
  },
  {
   "cell_type": "code",
   "execution_count": 42,
   "metadata": {},
   "outputs": [
    {
     "data": {
      "text/html": [
       "<div>\n",
       "<style scoped>\n",
       "    .dataframe tbody tr th:only-of-type {\n",
       "        vertical-align: middle;\n",
       "    }\n",
       "\n",
       "    .dataframe tbody tr th {\n",
       "        vertical-align: top;\n",
       "    }\n",
       "\n",
       "    .dataframe thead th {\n",
       "        text-align: right;\n",
       "    }\n",
       "</style>\n",
       "<table border=\"1\" class=\"dataframe\">\n",
       "  <thead>\n",
       "    <tr style=\"text-align: right;\">\n",
       "      <th></th>\n",
       "      <th>question</th>\n",
       "      <th>answer</th>\n",
       "      <th>context</th>\n",
       "    </tr>\n",
       "  </thead>\n",
       "  <tbody>\n",
       "    <tr>\n",
       "      <th>0</th>\n",
       "      <td>Hello</td>\n",
       "      <td>Hi! What financial questions do you have for m...</td>\n",
       "      <td>Hi! What financial questions do you have for m...</td>\n",
       "    </tr>\n",
       "    <tr>\n",
       "      <th>1</th>\n",
       "      <td>Hi</td>\n",
       "      <td>Hello! What financial questions do you have fo...</td>\n",
       "      <td>Hello! What financial questions do you have fo...</td>\n",
       "    </tr>\n",
       "    <tr>\n",
       "      <th>2</th>\n",
       "      <td>Greetings!</td>\n",
       "      <td>Hello! What financial questions do you have fo...</td>\n",
       "      <td>Hello! What financial questions do you have fo...</td>\n",
       "    </tr>\n",
       "    <tr>\n",
       "      <th>3</th>\n",
       "      <td>Hi, How is it going?</td>\n",
       "      <td>Good. What financial questions do you have for...</td>\n",
       "      <td>Good. What financial questions do you have for...</td>\n",
       "    </tr>\n",
       "    <tr>\n",
       "      <th>4</th>\n",
       "      <td>How are you doing?</td>\n",
       "      <td>Good. What financial questions do you have for...</td>\n",
       "      <td>Good. What financial questions do you have for...</td>\n",
       "    </tr>\n",
       "    <tr>\n",
       "      <th>5</th>\n",
       "      <td>Nice to meet you.</td>\n",
       "      <td>Thank you. What financial questions do you hav...</td>\n",
       "      <td>Thank you. What financial questions do you hav...</td>\n",
       "    </tr>\n",
       "    <tr>\n",
       "      <th>6</th>\n",
       "      <td>How do you do?</td>\n",
       "      <td>I'm doing well. What financial questions do yo...</td>\n",
       "      <td>I'm doing well. What financial questions do yo...</td>\n",
       "    </tr>\n",
       "    <tr>\n",
       "      <th>7</th>\n",
       "      <td>Hi, nice to meet you.</td>\n",
       "      <td>Thank you. You too. What financial questions d...</td>\n",
       "      <td>Thank you. You too. What financial questions d...</td>\n",
       "    </tr>\n",
       "    <tr>\n",
       "      <th>8</th>\n",
       "      <td>It is a pleasure to meet you.</td>\n",
       "      <td>Thank you. You too. What financial questions d...</td>\n",
       "      <td>Thank you. You too. What financial questions d...</td>\n",
       "    </tr>\n",
       "    <tr>\n",
       "      <th>9</th>\n",
       "      <td>Top of the morning to you!</td>\n",
       "      <td>And the rest of the day to you. What financial...</td>\n",
       "      <td>And the rest of the day to you. What financial...</td>\n",
       "    </tr>\n",
       "    <tr>\n",
       "      <th>10</th>\n",
       "      <td>What's up?</td>\n",
       "      <td>The sky's up but I'm fine thanks. What financi...</td>\n",
       "      <td>The sky's up but I'm fine thanks. What financi...</td>\n",
       "    </tr>\n",
       "    <tr>\n",
       "      <th>11</th>\n",
       "      <td>What does CRM stand for?</td>\n",
       "      <td>customer relationship management</td>\n",
       "      <td>CRM stands for customer relationship managemen...</td>\n",
       "    </tr>\n",
       "    <tr>\n",
       "      <th>12</th>\n",
       "      <td>What did most people think the housing market ...</td>\n",
       "      <td>all that great</td>\n",
       "      <td>now I think its fair to say that most people t...</td>\n",
       "    </tr>\n",
       "    <tr>\n",
       "      <th>13</th>\n",
       "      <td>What is the secret to the faster black holes c...</td>\n",
       "      <td>they dont know the secret</td>\n",
       "      <td>black holes are merging and bumping into each ...</td>\n",
       "    </tr>\n",
       "    <tr>\n",
       "      <th>14</th>\n",
       "      <td>What is the US economy's long term growth rate?</td>\n",
       "      <td>.</td>\n",
       "      <td>it makes a bet that if you believe the US econ...</td>\n",
       "    </tr>\n",
       "    <tr>\n",
       "      <th>15</th>\n",
       "      <td>What is the goal of setting your personal inve...</td>\n",
       "      <td>achieving them</td>\n",
       "      <td>Although you may think the answer is simply to...</td>\n",
       "    </tr>\n",
       "    <tr>\n",
       "      <th>16</th>\n",
       "      <td>What debt should you pay off before investing?</td>\n",
       "      <td>debt that you have not paid in full</td>\n",
       "      <td>Also if you owe any debt consider whether you ...</td>\n",
       "    </tr>\n",
       "    <tr>\n",
       "      <th>17</th>\n",
       "      <td>What do you need to know before you talk to a ...</td>\n",
       "      <td>Why do I need or want to invest?</td>\n",
       "      <td>Write the answers to these questions before yo...</td>\n",
       "    </tr>\n",
       "    <tr>\n",
       "      <th>18</th>\n",
       "      <td>What is the time frame for recouping fees?</td>\n",
       "      <td>a year or more</td>\n",
       "      <td>You have the right to say NO.__SEP__Fees reduc...</td>\n",
       "    </tr>\n",
       "    <tr>\n",
       "      <th>19</th>\n",
       "      <td>What does risk mean?</td>\n",
       "      <td>that you may lose all or part of your principal</td>\n",
       "      <td>Risk means that you may lose all or part of yo...</td>\n",
       "    </tr>\n",
       "  </tbody>\n",
       "</table>\n",
       "</div>"
      ],
      "text/plain": [
       "                                             question  \\\n",
       "0                                               Hello   \n",
       "1                                                  Hi   \n",
       "2                                          Greetings!   \n",
       "3                                Hi, How is it going?   \n",
       "4                                  How are you doing?   \n",
       "5                                   Nice to meet you.   \n",
       "6                                      How do you do?   \n",
       "7                               Hi, nice to meet you.   \n",
       "8                       It is a pleasure to meet you.   \n",
       "9                          Top of the morning to you!   \n",
       "10                                         What's up?   \n",
       "11                           What does CRM stand for?   \n",
       "12  What did most people think the housing market ...   \n",
       "13  What is the secret to the faster black holes c...   \n",
       "14    What is the US economy's long term growth rate?   \n",
       "15  What is the goal of setting your personal inve...   \n",
       "16     What debt should you pay off before investing?   \n",
       "17  What do you need to know before you talk to a ...   \n",
       "18         What is the time frame for recouping fees?   \n",
       "19                               What does risk mean?   \n",
       "\n",
       "                                               answer  \\\n",
       "0   Hi! What financial questions do you have for m...   \n",
       "1   Hello! What financial questions do you have fo...   \n",
       "2   Hello! What financial questions do you have fo...   \n",
       "3   Good. What financial questions do you have for...   \n",
       "4   Good. What financial questions do you have for...   \n",
       "5   Thank you. What financial questions do you hav...   \n",
       "6   I'm doing well. What financial questions do yo...   \n",
       "7   Thank you. You too. What financial questions d...   \n",
       "8   Thank you. You too. What financial questions d...   \n",
       "9   And the rest of the day to you. What financial...   \n",
       "10  The sky's up but I'm fine thanks. What financi...   \n",
       "11                   customer relationship management   \n",
       "12                                     all that great   \n",
       "13                          they dont know the secret   \n",
       "14                                                  .   \n",
       "15                                     achieving them   \n",
       "16                debt that you have not paid in full   \n",
       "17                   Why do I need or want to invest?   \n",
       "18                                     a year or more   \n",
       "19    that you may lose all or part of your principal   \n",
       "\n",
       "                                              context  \n",
       "0   Hi! What financial questions do you have for m...  \n",
       "1   Hello! What financial questions do you have fo...  \n",
       "2   Hello! What financial questions do you have fo...  \n",
       "3   Good. What financial questions do you have for...  \n",
       "4   Good. What financial questions do you have for...  \n",
       "5   Thank you. What financial questions do you hav...  \n",
       "6   I'm doing well. What financial questions do yo...  \n",
       "7   Thank you. You too. What financial questions d...  \n",
       "8   Thank you. You too. What financial questions d...  \n",
       "9   And the rest of the day to you. What financial...  \n",
       "10  The sky's up but I'm fine thanks. What financi...  \n",
       "11  CRM stands for customer relationship managemen...  \n",
       "12  now I think its fair to say that most people t...  \n",
       "13  black holes are merging and bumping into each ...  \n",
       "14  it makes a bet that if you believe the US econ...  \n",
       "15  Although you may think the answer is simply to...  \n",
       "16  Also if you owe any debt consider whether you ...  \n",
       "17  Write the answers to these questions before yo...  \n",
       "18  You have the right to say NO.__SEP__Fees reduc...  \n",
       "19  Risk means that you may lose all or part of yo...  "
      ]
     },
     "execution_count": 42,
     "metadata": {},
     "output_type": "execute_result"
    }
   ],
   "source": [
    "context.head(20)"
   ]
  },
  {
   "cell_type": "markdown",
   "metadata": {},
   "source": [
    "## Data Exploration"
   ]
  },
  {
   "cell_type": "code",
   "execution_count": 44,
   "metadata": {},
   "outputs": [
    {
     "data": {
      "text/plain": [
       "(2732, 3)"
      ]
     },
     "execution_count": 44,
     "metadata": {},
     "output_type": "execute_result"
    }
   ],
   "source": [
    "context.shape"
   ]
  },
  {
   "cell_type": "code",
   "execution_count": 45,
   "metadata": {},
   "outputs": [
    {
     "data": {
      "text/plain": [
       "(2618, 3)"
      ]
     },
     "execution_count": 45,
     "metadata": {},
     "output_type": "execute_result"
    }
   ],
   "source": [
    "# Remove duplicate questions\n",
    "cleaned_context = context.drop_duplicates(subset=['question'])\n",
    "cleaned_context.shape"
   ]
  },
  {
   "cell_type": "code",
   "execution_count": 46,
   "metadata": {},
   "outputs": [
    {
     "data": {
      "text/plain": [
       "(2618, 3)"
      ]
     },
     "execution_count": 46,
     "metadata": {},
     "output_type": "execute_result"
    }
   ],
   "source": [
    "# Remove any questions that may be none or empty\n",
    "cleaned_context = cleaned_context[cleaned_context['question'] != '']\n",
    "cleaned_context.shape"
   ]
  },
  {
   "cell_type": "code",
   "execution_count": 47,
   "metadata": {},
   "outputs": [
    {
     "data": {
      "text/plain": [
       "(2618, 3)"
      ]
     },
     "execution_count": 47,
     "metadata": {},
     "output_type": "execute_result"
    }
   ],
   "source": [
    "# Remove any questions that may be none or empty\n",
    "cleaned_context = cleaned_context[cleaned_context['answer'] != '']\n",
    "cleaned_context.shape"
   ]
  },
  {
   "cell_type": "code",
   "execution_count": 48,
   "metadata": {},
   "outputs": [],
   "source": [
    "cleaned_context.to_csv(f\"projects/{PROJECT_NAME}/context.csv\", index=False)"
   ]
  },
  {
   "cell_type": "code",
   "execution_count": 2,
   "metadata": {},
   "outputs": [],
   "source": [
    "cleaned_context = pd.read_csv(f\"projects/{PROJECT_NAME}/context.csv\")"
   ]
  },
  {
   "cell_type": "markdown",
   "metadata": {},
   "source": [
    "## Split the dataset and format it for learning"
   ]
  },
  {
   "cell_type": "code",
   "execution_count": 3,
   "metadata": {},
   "outputs": [
    {
     "data": {
      "text/html": [
       "<div>\n",
       "<style scoped>\n",
       "    .dataframe tbody tr th:only-of-type {\n",
       "        vertical-align: middle;\n",
       "    }\n",
       "\n",
       "    .dataframe tbody tr th {\n",
       "        vertical-align: top;\n",
       "    }\n",
       "\n",
       "    .dataframe thead th {\n",
       "        text-align: right;\n",
       "    }\n",
       "</style>\n",
       "<table border=\"1\" class=\"dataframe\">\n",
       "  <thead>\n",
       "    <tr style=\"text-align: right;\">\n",
       "      <th></th>\n",
       "      <th>question</th>\n",
       "      <th>answer</th>\n",
       "      <th>context</th>\n",
       "      <th>start</th>\n",
       "      <th>end</th>\n",
       "      <th>has_answer</th>\n",
       "    </tr>\n",
       "  </thead>\n",
       "  <tbody>\n",
       "    <tr>\n",
       "      <th>0</th>\n",
       "      <td>Corporate bonds pay what percentage of interes...</td>\n",
       "      <td>higher</td>\n",
       "      <td>Corporate bonds can be issued in many differen...</td>\n",
       "      <td>91</td>\n",
       "      <td>96</td>\n",
       "      <td>True</td>\n",
       "    </tr>\n",
       "    <tr>\n",
       "      <th>1</th>\n",
       "      <td>Greetings!</td>\n",
       "      <td>Hello! What financial questions do you have fo...</td>\n",
       "      <td>Hello! What financial questions do you have fo...</td>\n",
       "      <td>0</td>\n",
       "      <td>56</td>\n",
       "      <td>True</td>\n",
       "    </tr>\n",
       "    <tr>\n",
       "      <th>2</th>\n",
       "      <td>Hello</td>\n",
       "      <td>Hi! What financial questions do you have for m...</td>\n",
       "      <td>Hi! What financial questions do you have for m...</td>\n",
       "      <td>0</td>\n",
       "      <td>53</td>\n",
       "      <td>True</td>\n",
       "    </tr>\n",
       "    <tr>\n",
       "      <th>3</th>\n",
       "      <td>Hi</td>\n",
       "      <td>Hello! What financial questions do you have fo...</td>\n",
       "      <td>Hello! What financial questions do you have fo...</td>\n",
       "      <td>0</td>\n",
       "      <td>56</td>\n",
       "      <td>True</td>\n",
       "    </tr>\n",
       "    <tr>\n",
       "      <th>4</th>\n",
       "      <td>Hi, nice to meet you.</td>\n",
       "      <td>Thank you. You too. What financial questions d...</td>\n",
       "      <td>Thank you. You too. What financial questions d...</td>\n",
       "      <td>0</td>\n",
       "      <td>69</td>\n",
       "      <td>True</td>\n",
       "    </tr>\n",
       "    <tr>\n",
       "      <th>5</th>\n",
       "      <td>How are you doing?</td>\n",
       "      <td>Good. What financial questions do you have for...</td>\n",
       "      <td>Good. What financial questions do you have for...</td>\n",
       "      <td>0</td>\n",
       "      <td>55</td>\n",
       "      <td>True</td>\n",
       "    </tr>\n",
       "    <tr>\n",
       "      <th>6</th>\n",
       "      <td>How do individual actions affect the price of ...</td>\n",
       "      <td>individual actions</td>\n",
       "      <td>How do individual actions affect the price of ...</td>\n",
       "      <td>7</td>\n",
       "      <td>24</td>\n",
       "      <td>True</td>\n",
       "    </tr>\n",
       "    <tr>\n",
       "      <th>7</th>\n",
       "      <td>How do you do?</td>\n",
       "      <td>I'm doing well. What financial questions do yo...</td>\n",
       "      <td>I'm doing well. What financial questions do yo...</td>\n",
       "      <td>0</td>\n",
       "      <td>65</td>\n",
       "      <td>True</td>\n",
       "    </tr>\n",
       "    <tr>\n",
       "      <th>8</th>\n",
       "      <td>How does the Motley Fool know how it did?</td>\n",
       "      <td>when the index goes up the aggregate value of ...</td>\n",
       "      <td>And how do we know how it did?__SEP__The Motle...</td>\n",
       "      <td>89</td>\n",
       "      <td>192</td>\n",
       "      <td>True</td>\n",
       "    </tr>\n",
       "    <tr>\n",
       "      <th>9</th>\n",
       "      <td>How far away from home do you have to travel t...</td>\n",
       "      <td>more than 100 miles</td>\n",
       "      <td>Each of these adjustments is discussed below._...</td>\n",
       "      <td>130</td>\n",
       "      <td>148</td>\n",
       "      <td>True</td>\n",
       "    </tr>\n",
       "    <tr>\n",
       "      <th>10</th>\n",
       "      <td>How is the yield derived?</td>\n",
       "      <td>by dividing the annual dividend by the closing...</td>\n",
       "      <td>How can I learn more about this company?__SEP_...</td>\n",
       "      <td>68</td>\n",
       "      <td>119</td>\n",
       "      <td>True</td>\n",
       "    </tr>\n",
       "    <tr>\n",
       "      <th>11</th>\n",
       "      <td>How long after you filed your return did you f...</td>\n",
       "      <td>more than 3 years</td>\n",
       "      <td>However because you filed your claim more than...</td>\n",
       "      <td>37</td>\n",
       "      <td>53</td>\n",
       "      <td>True</td>\n",
       "    </tr>\n",
       "    <tr>\n",
       "      <th>12</th>\n",
       "      <td>How long ago was Google founded?</td>\n",
       "      <td>25 years ago</td>\n",
       "      <td>Google Services Serving Our Users We have alwa...</td>\n",
       "      <td>246</td>\n",
       "      <td>257</td>\n",
       "      <td>True</td>\n",
       "    </tr>\n",
       "    <tr>\n",
       "      <th>13</th>\n",
       "      <td>How long before your 65th birthday do you cont...</td>\n",
       "      <td>3 months</td>\n",
       "      <td>If you plan to retire at age 65 you simply con...</td>\n",
       "      <td>92</td>\n",
       "      <td>99</td>\n",
       "      <td>True</td>\n",
       "    </tr>\n",
       "    <tr>\n",
       "      <th>14</th>\n",
       "      <td>How long can a group health plan exclude cover...</td>\n",
       "      <td>12 months</td>\n",
       "      <td>You should examine the terms of your present c...</td>\n",
       "      <td>178</td>\n",
       "      <td>186</td>\n",
       "      <td>True</td>\n",
       "    </tr>\n",
       "  </tbody>\n",
       "</table>\n",
       "</div>"
      ],
      "text/plain": [
       "                                             question  \\\n",
       "0   Corporate bonds pay what percentage of interes...   \n",
       "1                                          Greetings!   \n",
       "2                                               Hello   \n",
       "3                                                  Hi   \n",
       "4                               Hi, nice to meet you.   \n",
       "5                                  How are you doing?   \n",
       "6   How do individual actions affect the price of ...   \n",
       "7                                      How do you do?   \n",
       "8           How does the Motley Fool know how it did?   \n",
       "9   How far away from home do you have to travel t...   \n",
       "10                          How is the yield derived?   \n",
       "11  How long after you filed your return did you f...   \n",
       "12                   How long ago was Google founded?   \n",
       "13  How long before your 65th birthday do you cont...   \n",
       "14  How long can a group health plan exclude cover...   \n",
       "\n",
       "                                               answer  \\\n",
       "0                                              higher   \n",
       "1   Hello! What financial questions do you have fo...   \n",
       "2   Hi! What financial questions do you have for m...   \n",
       "3   Hello! What financial questions do you have fo...   \n",
       "4   Thank you. You too. What financial questions d...   \n",
       "5   Good. What financial questions do you have for...   \n",
       "6                                  individual actions   \n",
       "7   I'm doing well. What financial questions do yo...   \n",
       "8   when the index goes up the aggregate value of ...   \n",
       "9                                 more than 100 miles   \n",
       "10  by dividing the annual dividend by the closing...   \n",
       "11                                  more than 3 years   \n",
       "12                                       25 years ago   \n",
       "13                                           3 months   \n",
       "14                                          12 months   \n",
       "\n",
       "                                              context  start  end  has_answer  \n",
       "0   Corporate bonds can be issued in many differen...     91   96        True  \n",
       "1   Hello! What financial questions do you have fo...      0   56        True  \n",
       "2   Hi! What financial questions do you have for m...      0   53        True  \n",
       "3   Hello! What financial questions do you have fo...      0   56        True  \n",
       "4   Thank you. You too. What financial questions d...      0   69        True  \n",
       "5   Good. What financial questions do you have for...      0   55        True  \n",
       "6   How do individual actions affect the price of ...      7   24        True  \n",
       "7   I'm doing well. What financial questions do yo...      0   65        True  \n",
       "8   And how do we know how it did?__SEP__The Motle...     89  192        True  \n",
       "9   Each of these adjustments is discussed below._...    130  148        True  \n",
       "10  How can I learn more about this company?__SEP_...     68  119        True  \n",
       "11  However because you filed your claim more than...     37   53        True  \n",
       "12  Google Services Serving Our Users We have alwa...    246  257        True  \n",
       "13  If you plan to retire at age 65 you simply con...     92   99        True  \n",
       "14  You should examine the terms of your present c...    178  186        True  "
      ]
     },
     "execution_count": 3,
     "metadata": {},
     "output_type": "execute_result"
    }
   ],
   "source": [
    "train_df, test_df = format_data(cleaned_context, explode_context=False)\n",
    "\n",
    "train_df.head(15)"
   ]
  },
  {
   "cell_type": "code",
   "execution_count": 4,
   "metadata": {},
   "outputs": [
    {
     "data": {
      "text/plain": [
       "(1833, 6)"
      ]
     },
     "execution_count": 4,
     "metadata": {},
     "output_type": "execute_result"
    }
   ],
   "source": [
    "train_df.shape"
   ]
  },
  {
   "cell_type": "code",
   "execution_count": 5,
   "metadata": {},
   "outputs": [
    {
     "data": {
      "text/html": [
       "<div>\n",
       "<style scoped>\n",
       "    .dataframe tbody tr th:only-of-type {\n",
       "        vertical-align: middle;\n",
       "    }\n",
       "\n",
       "    .dataframe tbody tr th {\n",
       "        vertical-align: top;\n",
       "    }\n",
       "\n",
       "    .dataframe thead th {\n",
       "        text-align: right;\n",
       "    }\n",
       "</style>\n",
       "<table border=\"1\" class=\"dataframe\">\n",
       "  <thead>\n",
       "    <tr style=\"text-align: right;\">\n",
       "      <th></th>\n",
       "      <th>question</th>\n",
       "      <th>answer</th>\n",
       "      <th>context</th>\n",
       "      <th>start</th>\n",
       "      <th>end</th>\n",
       "      <th>has_answer</th>\n",
       "    </tr>\n",
       "  </thead>\n",
       "  <tbody>\n",
       "    <tr>\n",
       "      <th>0</th>\n",
       "      <td>Hi, How is it going?</td>\n",
       "      <td>Good. What financial questions do you have for...</td>\n",
       "      <td>Good. What financial questions do you have for...</td>\n",
       "      <td>0</td>\n",
       "      <td>55</td>\n",
       "      <td>True</td>\n",
       "    </tr>\n",
       "    <tr>\n",
       "      <th>1</th>\n",
       "      <td>How do you decide where to put your money?</td>\n",
       "      <td>How do you decide where to put your money</td>\n",
       "      <td>This makes it easier to invest and to diversif...</td>\n",
       "      <td>99</td>\n",
       "      <td>139</td>\n",
       "      <td>True</td>\n",
       "    </tr>\n",
       "    <tr>\n",
       "      <th>2</th>\n",
       "      <td>How long after you filed your return can you f...</td>\n",
       "      <td>3 years</td>\n",
       "      <td>Generally you can file an amended return withi...</td>\n",
       "      <td>48</td>\n",
       "      <td>54</td>\n",
       "      <td>True</td>\n",
       "    </tr>\n",
       "    <tr>\n",
       "      <th>3</th>\n",
       "      <td>How long after you start can you come back to ...</td>\n",
       "      <td>six months or a year</td>\n",
       "      <td>You may want to make a copy of the worksheets ...</td>\n",
       "      <td>157</td>\n",
       "      <td>176</td>\n",
       "      <td>True</td>\n",
       "    </tr>\n",
       "    <tr>\n",
       "      <th>4</th>\n",
       "      <td>How long before their 65th birthday can they e...</td>\n",
       "      <td>3 months</td>\n",
       "      <td>The same holds true for longterm care.__SEP__Y...</td>\n",
       "      <td>130</td>\n",
       "      <td>137</td>\n",
       "      <td>True</td>\n",
       "    </tr>\n",
       "    <tr>\n",
       "      <th>5</th>\n",
       "      <td>How long before you die must you make the gift?</td>\n",
       "      <td>more than 3 years</td>\n",
       "      <td>However to be effective in keeping the proceed...</td>\n",
       "      <td>90</td>\n",
       "      <td>106</td>\n",
       "      <td>True</td>\n",
       "    </tr>\n",
       "    <tr>\n",
       "      <th>6</th>\n",
       "      <td>How long can a customer lease a Tesla directly...</td>\n",
       "      <td>up to 48 months</td>\n",
       "      <td>We sell these credits to other regulated entit...</td>\n",
       "      <td>227</td>\n",
       "      <td>241</td>\n",
       "      <td>True</td>\n",
       "    </tr>\n",
       "    <tr>\n",
       "      <th>7</th>\n",
       "      <td>How long can you include the cost of storing a...</td>\n",
       "      <td>30 consecutive days</td>\n",
       "      <td>You cant deduct expenses for moving furniture ...</td>\n",
       "      <td>243</td>\n",
       "      <td>261</td>\n",
       "      <td>True</td>\n",
       "    </tr>\n",
       "    <tr>\n",
       "      <th>8</th>\n",
       "      <td>How long did it take to file your claim?</td>\n",
       "      <td>within 3 years</td>\n",
       "      <td>Because you filed your claim within 3 years af...</td>\n",
       "      <td>29</td>\n",
       "      <td>42</td>\n",
       "      <td>True</td>\n",
       "    </tr>\n",
       "    <tr>\n",
       "      <th>9</th>\n",
       "      <td>How long do you work and save until you retire?</td>\n",
       "      <td>50 years</td>\n",
       "      <td>You work and save for the next 50 years until ...</td>\n",
       "      <td>31</td>\n",
       "      <td>38</td>\n",
       "      <td>True</td>\n",
       "    </tr>\n",
       "    <tr>\n",
       "      <th>10</th>\n",
       "      <td>How long does it take to read this article?</td>\n",
       "      <td>less than five minutes</td>\n",
       "      <td>Will I need to adjust my plan?__SEP__Were goin...</td>\n",
       "      <td>125</td>\n",
       "      <td>146</td>\n",
       "      <td>True</td>\n",
       "    </tr>\n",
       "    <tr>\n",
       "      <th>11</th>\n",
       "      <td>How long does the Roth IRA account have to be ...</td>\n",
       "      <td>at least 5 years</td>\n",
       "      <td>You also can put the same amount taxdeferred i...</td>\n",
       "      <td>267</td>\n",
       "      <td>282</td>\n",
       "      <td>True</td>\n",
       "    </tr>\n",
       "    <tr>\n",
       "      <th>12</th>\n",
       "      <td>How long does the benefit period end after you...</td>\n",
       "      <td>60 days in a row</td>\n",
       "      <td>Where you receive these services i.e.__SEP__Fo...</td>\n",
       "      <td>235</td>\n",
       "      <td>250</td>\n",
       "      <td>True</td>\n",
       "    </tr>\n",
       "    <tr>\n",
       "      <th>13</th>\n",
       "      <td>How long must you wait to file your request?</td>\n",
       "      <td>180 days</td>\n",
       "      <td>The IRS will review your request and advise yo...</td>\n",
       "      <td>111</td>\n",
       "      <td>118</td>\n",
       "      <td>True</td>\n",
       "    </tr>\n",
       "    <tr>\n",
       "      <th>14</th>\n",
       "      <td>How long will you have the cash in your IRA?</td>\n",
       "      <td>60 days</td>\n",
       "      <td>This means that IRA contributions can generall...</td>\n",
       "      <td>184</td>\n",
       "      <td>190</td>\n",
       "      <td>True</td>\n",
       "    </tr>\n",
       "  </tbody>\n",
       "</table>\n",
       "</div>"
      ],
      "text/plain": [
       "                                             question  \\\n",
       "0                                Hi, How is it going?   \n",
       "1          How do you decide where to put your money?   \n",
       "2   How long after you filed your return can you f...   \n",
       "3   How long after you start can you come back to ...   \n",
       "4   How long before their 65th birthday can they e...   \n",
       "5     How long before you die must you make the gift?   \n",
       "6   How long can a customer lease a Tesla directly...   \n",
       "7   How long can you include the cost of storing a...   \n",
       "8            How long did it take to file your claim?   \n",
       "9     How long do you work and save until you retire?   \n",
       "10        How long does it take to read this article?   \n",
       "11  How long does the Roth IRA account have to be ...   \n",
       "12  How long does the benefit period end after you...   \n",
       "13       How long must you wait to file your request?   \n",
       "14       How long will you have the cash in your IRA?   \n",
       "\n",
       "                                               answer  \\\n",
       "0   Good. What financial questions do you have for...   \n",
       "1           How do you decide where to put your money   \n",
       "2                                             3 years   \n",
       "3                                six months or a year   \n",
       "4                                            3 months   \n",
       "5                                   more than 3 years   \n",
       "6                                     up to 48 months   \n",
       "7                                 30 consecutive days   \n",
       "8                                      within 3 years   \n",
       "9                                            50 years   \n",
       "10                             less than five minutes   \n",
       "11                                   at least 5 years   \n",
       "12                                   60 days in a row   \n",
       "13                                           180 days   \n",
       "14                                            60 days   \n",
       "\n",
       "                                              context  start  end  has_answer  \n",
       "0   Good. What financial questions do you have for...      0   55        True  \n",
       "1   This makes it easier to invest and to diversif...     99  139        True  \n",
       "2   Generally you can file an amended return withi...     48   54        True  \n",
       "3   You may want to make a copy of the worksheets ...    157  176        True  \n",
       "4   The same holds true for longterm care.__SEP__Y...    130  137        True  \n",
       "5   However to be effective in keeping the proceed...     90  106        True  \n",
       "6   We sell these credits to other regulated entit...    227  241        True  \n",
       "7   You cant deduct expenses for moving furniture ...    243  261        True  \n",
       "8   Because you filed your claim within 3 years af...     29   42        True  \n",
       "9   You work and save for the next 50 years until ...     31   38        True  \n",
       "10  Will I need to adjust my plan?__SEP__Were goin...    125  146        True  \n",
       "11  You also can put the same amount taxdeferred i...    267  282        True  \n",
       "12  Where you receive these services i.e.__SEP__Fo...    235  250        True  \n",
       "13  The IRS will review your request and advise yo...    111  118        True  \n",
       "14  This means that IRA contributions can generall...    184  190        True  "
      ]
     },
     "execution_count": 5,
     "metadata": {},
     "output_type": "execute_result"
    }
   ],
   "source": [
    "test_df.head(15)"
   ]
  },
  {
   "cell_type": "code",
   "execution_count": 6,
   "metadata": {},
   "outputs": [
    {
     "data": {
      "text/plain": [
       "(785, 6)"
      ]
     },
     "execution_count": 6,
     "metadata": {},
     "output_type": "execute_result"
    }
   ],
   "source": [
    "test_df.shape"
   ]
  },
  {
   "cell_type": "markdown",
   "metadata": {},
   "source": [
    "## Train the model\n",
    "\n",
    "We fine tune a pre-trained GPT2 model with our question-answer context."
   ]
  },
  {
   "cell_type": "code",
   "execution_count": 7,
   "metadata": {},
   "outputs": [
    {
     "data": {
      "application/vnd.jupyter.widget-view+json": {
       "model_id": "63aa9e4965d3477d95f8e0756cbb0570",
       "version_major": 2,
       "version_minor": 0
      },
      "text/plain": [
       "Map:   0%|          | 0/1833 [00:00<?, ? examples/s]"
      ]
     },
     "metadata": {},
     "output_type": "display_data"
    },
    {
     "data": {
      "application/vnd.jupyter.widget-view+json": {
       "model_id": "081d9a065a4145a1ad0d855e3a52adb7",
       "version_major": 2,
       "version_minor": 0
      },
      "text/plain": [
       "Map:   0%|          | 0/785 [00:00<?, ? examples/s]"
      ]
     },
     "metadata": {},
     "output_type": "display_data"
    },
    {
     "name": "stdout",
     "output_type": "stream",
     "text": [
      "Epoch 1/10\n"
     ]
    },
    {
     "name": "stderr",
     "output_type": "stream",
     "text": [
      "Training...: 100%|██████████| 917/917 [00:42<00:00, 21.39it/s]\n",
      "Evaluating...: 100%|██████████| 393/393 [00:06<00:00, 59.37it/s]\n"
     ]
    },
    {
     "name": "stdout",
     "output_type": "stream",
     "text": [
      "Epoch - Loss 1.1699405993896586, Val Loss 0.446178565688109, Perplexity 0.07714233427605366, BLEU 0.19496634058483228\n",
      "Epoch - Rouge 1 0.48913189319128836, Rouge 2 0.1863955785894055, Rouge L 0.450446040295371\n",
      "Epoch 2/10\n"
     ]
    },
    {
     "name": "stderr",
     "output_type": "stream",
     "text": [
      "Training...: 100%|██████████| 917/917 [00:42<00:00, 21.69it/s]\n",
      "Evaluating...: 100%|██████████| 393/393 [00:06<00:00, 59.29it/s]\n"
     ]
    },
    {
     "name": "stdout",
     "output_type": "stream",
     "text": [
      "Epoch - Loss 0.4492158443223169, Val Loss 0.4267930650074063, Perplexity 0.08520190770355435, BLEU 0.20503223267844525\n",
      "Epoch - Rouge 1 0.49933380963398283, Rouge 2 0.19858153872163384, Rouge L 0.46338272568711875\n",
      "Epoch 3/10\n"
     ]
    },
    {
     "name": "stderr",
     "output_type": "stream",
     "text": [
      "Training...: 100%|██████████| 917/917 [00:42<00:00, 21.66it/s]\n",
      "Evaluating...: 100%|██████████| 393/393 [00:06<00:00, 59.42it/s]\n"
     ]
    },
    {
     "name": "stdout",
     "output_type": "stream",
     "text": [
      "Epoch - Loss 0.40148498046424164, Val Loss 0.4275485143710032, Perplexity 0.08509028155250954, BLEU 0.20621197603991442\n",
      "Epoch - Rouge 1 0.5050065110545745, Rouge 2 0.2045554949760531, Rouge L 0.4670943471856809\n",
      "Epoch 4/10\n"
     ]
    },
    {
     "name": "stderr",
     "output_type": "stream",
     "text": [
      "Training...: 100%|██████████| 917/917 [00:42<00:00, 21.68it/s]\n",
      "Evaluating...: 100%|██████████| 393/393 [00:06<00:00, 59.35it/s]\n"
     ]
    },
    {
     "name": "stdout",
     "output_type": "stream",
     "text": [
      "Epoch - Loss 0.35177162855116073, Val Loss 0.4353947629227893, Perplexity 0.08213814892599028, BLEU 0.20717055486265015\n",
      "Epoch - Rouge 1 0.5006207774807374, Rouge 2 0.20676732620664284, Rouge L 0.4642881951879679\n",
      "Epoch 5/10\n"
     ]
    },
    {
     "name": "stderr",
     "output_type": "stream",
     "text": [
      "Training...: 100%|██████████| 917/917 [00:42<00:00, 21.67it/s]\n",
      "Evaluating...: 100%|██████████| 393/393 [00:06<00:00, 59.24it/s]\n"
     ]
    },
    {
     "name": "stdout",
     "output_type": "stream",
     "text": [
      "Epoch - Loss 0.2978751286133035, Val Loss 0.46259738679302254, Perplexity 0.07007763996471686, BLEU 0.2015693200500669\n",
      "Epoch - Rouge 1 0.48849690930405004, Rouge 2 0.19529672639967544, Rouge L 0.45577578011490816\n",
      "Epoch 6/10\n"
     ]
    },
    {
     "name": "stderr",
     "output_type": "stream",
     "text": [
      "Training...: 100%|██████████| 917/917 [00:42<00:00, 21.68it/s]\n",
      "Evaluating...: 100%|██████████| 393/393 [00:06<00:00, 59.11it/s]\n"
     ]
    },
    {
     "name": "stdout",
     "output_type": "stream",
     "text": [
      "Epoch - Loss 0.24624584906103827, Val Loss 0.48386765083738864, Perplexity 0.06197715831273662, BLEU 0.1996415246518703\n",
      "Epoch - Rouge 1 0.483811354052377, Rouge 2 0.1942285654275608, Rouge L 0.45101399066861986\n",
      "Epoch 7/10\n"
     ]
    },
    {
     "name": "stderr",
     "output_type": "stream",
     "text": [
      "Training...: 100%|██████████| 917/917 [00:42<00:00, 21.69it/s]\n",
      "Evaluating...: 100%|██████████| 393/393 [00:06<00:00, 59.40it/s]\n"
     ]
    },
    {
     "name": "stdout",
     "output_type": "stream",
     "text": [
      "Epoch - Loss 0.2019199521616995, Val Loss 0.5344044555537877, Perplexity 0.04663542016175156, BLEU 0.19189513491619833\n",
      "Epoch - Rouge 1 0.4772138571052307, Rouge 2 0.1863895212799816, Rouge L 0.44279997132191784\n",
      "Epoch 8/10\n"
     ]
    },
    {
     "name": "stderr",
     "output_type": "stream",
     "text": [
      "Training...: 100%|██████████| 917/917 [00:42<00:00, 21.68it/s]\n",
      "Evaluating...: 100%|██████████| 393/393 [00:06<00:00, 59.36it/s]\n"
     ]
    },
    {
     "name": "stdout",
     "output_type": "stream",
     "text": [
      "Epoch - Loss 0.17229619297232468, Val Loss 0.5669158622812072, Perplexity 0.038002958997431106, BLEU 0.19052207268574264\n",
      "Epoch - Rouge 1 0.468150907558629, Rouge 2 0.1828773501316461, Rouge L 0.4337503756722849\n",
      "Epoch 9/10\n"
     ]
    },
    {
     "name": "stderr",
     "output_type": "stream",
     "text": [
      "Training...: 100%|██████████| 917/917 [00:42<00:00, 21.67it/s]\n",
      "Evaluating...: 100%|██████████| 393/393 [00:06<00:00, 59.22it/s]\n"
     ]
    },
    {
     "name": "stdout",
     "output_type": "stream",
     "text": [
      "Epoch - Loss 0.1483987786745167, Val Loss 0.6247759902750263, Perplexity 0.027470323035927325, BLEU 0.1813047871508423\n",
      "Epoch - Rouge 1 0.4610145578533159, Rouge 2 0.17710291354833074, Rouge L 0.4262137583883184\n",
      "Epoch 10/10\n"
     ]
    },
    {
     "name": "stderr",
     "output_type": "stream",
     "text": [
      "Training...: 100%|██████████| 917/917 [00:42<00:00, 21.67it/s]\n",
      "Evaluating...: 100%|██████████| 393/393 [00:06<00:00, 59.20it/s]\n"
     ]
    },
    {
     "name": "stdout",
     "output_type": "stream",
     "text": [
      "Epoch - Loss 0.141332612489731, Val Loss 0.6146695989233847, Perplexity 0.02926822879413085, BLEU 0.1852824263003352\n",
      "Epoch - Rouge 1 0.464819491404766, Rouge 2 0.17797947806596306, Rouge L 0.43026131242919213\n"
     ]
    }
   ],
   "source": [
    "model, train_losses, test_losses, bleu_scores, perplexity_scores, rouge1_scores, rouge2_scores, rougeL_scores = train(PROJECT_NAME, train_df, test_df, device, epochs=10)"
   ]
  },
  {
   "cell_type": "code",
   "execution_count": 8,
   "metadata": {},
   "outputs": [
    {
     "data": {
      "image/png": "[encoded data removed]",
      "text/plain": [
       "<Figure size 1000x500 with 1 Axes>"
      ]
     },
     "metadata": {},
     "output_type": "display_data"
    }
   ],
   "source": [
    "plt.figure(figsize=(10, 5))\n",
    "plt.plot(rouge1_scores, label='ROUGE-1')\n",
    "plt.plot(rouge2_scores, label='ROUGE-2')\n",
    "plt.plot(rougeL_scores, label='ROUGE-L')\n",
    "plt.xlabel('Epochs')\n",
    "plt.ylabel('ROUGE Score')\n",
    "plt.title('ROUGE Scores over Epochs')\n",
    "plt.legend()\n",
    "plt.show()"
   ]
  },
  {
   "cell_type": "code",
   "execution_count": 9,
   "metadata": {},
   "outputs": [
    {
     "data": {
      "image/png": "[encoded data removed]",
      "text/plain": [
       "<Figure size 1000x500 with 1 Axes>"
      ]
     },
     "metadata": {},
     "output_type": "display_data"
    }
   ],
   "source": [
    "plt.figure(figsize=(10, 5))\n",
    "plt.plot(train_losses, label='Train Loss')\n",
    "plt.plot(test_losses, label='Test Loss')\n",
    "plt.xlabel('Epochs')\n",
    "plt.ylabel('Loss')\n",
    "plt.title('Training Loss over Time')\n",
    "plt.legend()\n",
    "plt.show()"
   ]
  },
  {
   "cell_type": "code",
   "execution_count": 10,
   "metadata": {},
   "outputs": [
    {
     "data": {
      "image/png": "[encoded data removed]",
      "text/plain": [
       "<Figure size 1000x500 with 1 Axes>"
      ]
     },
     "metadata": {},
     "output_type": "display_data"
    }
   ],
   "source": [
    "plt.figure(figsize=(10, 5))\n",
    "plt.plot(perplexity_scores, label='Perplexity')\n",
    "plt.xlabel('Epochs')\n",
    "plt.ylabel('Perplexity')\n",
    "plt.title('Perplexity over Time')\n",
    "plt.legend()\n",
    "plt.show()"
   ]
  },
  {
   "cell_type": "code",
   "execution_count": 17,
   "metadata": {},
   "outputs": [
    {
     "name": "stdout",
     "output_type": "stream",
     "text": [
      "Question: What is a good tip for investment?\n",
      "Answer: take a close look at the numbers more likely than not that the investment is made only by a small investment\n"
     ]
    }
   ],
   "source": [
    "question = \"What is a good tip for investment?\"\n",
    "answer = chat(PROJECT_NAME, question, device)\n",
    "print(f\"Question: {question}\")\n",
    "print(f\"Answer: {answer}\")"
   ]
  },
  {
   "cell_type": "code",
   "execution_count": 12,
   "metadata": {},
   "outputs": [
    {
     "name": "stderr",
     "output_type": "stream",
     "text": [
      "/opt/conda/envs/pytorch/lib/python3.11/site-packages/transformers/generation/configuration_utils.py:540: UserWarning: `do_sample` is set to `False`. However, `temperature` is set to `0.7` -- this flag is only used in sample-based generation modes. You should set `do_sample=True` or unset `temperature`.\n",
      "  warnings.warn(\n",
      "/opt/conda/envs/pytorch/lib/python3.11/site-packages/transformers/generation/configuration_utils.py:545: UserWarning: `do_sample` is set to `False`. However, `top_p` is set to `0.95` -- this flag is only used in sample-based generation modes. You should set `do_sample=True` or unset `top_p`.\n",
      "  warnings.warn(\n",
      "The attention mask is not set and cannot be inferred from input because pad token is same as eos token.As a consequence, you may observe unexpected behavior. Please pass your input's `attention_mask` to obtain reliable results.\n"
     ]
    },
    {
     "name": "stdout",
     "output_type": "stream",
     "text": [
      "Question: Whats up?\n",
      "Answer: The sky's up but I'm fine thanks. What financial questions do you have for me today?\n"
     ]
    }
   ],
   "source": [
    "question = \"Whats up?\"\n",
    "answer = chat(PROJECT_NAME, question, device)\n",
    "print(f\"Question: {question}\")\n",
    "print(f\"Answer: {answer}\")"
   ]
  },
  {
   "cell_type": "code",
   "execution_count": 13,
   "metadata": {},
   "outputs": [
    {
     "name": "stdout",
     "output_type": "stream",
     "text": [
      "Question: When should I file taxes?\n",
      "Answer: when the due date for filing your return for the year\n"
     ]
    }
   ],
   "source": [
    "question = \"When should I file taxes?\"\n",
    "answer = chat(PROJECT_NAME, question, device)\n",
    "print(f\"Question: {question}\")\n",
    "print(f\"Answer: {answer}\")"
   ]
  },
  {
   "cell_type": "code",
   "execution_count": 15,
   "metadata": {},
   "outputs": [
    {
     "name": "stdout",
     "output_type": "stream",
     "text": [
      "Question: What does stock represent?\n",
      "Answer: a share of ownership in a corporation\n"
     ]
    }
   ],
   "source": [
    "question = \"What does stock represent?\"\n",
    "answer = chat(PROJECT_NAME, question, device)\n",
    "print(f\"Question: {question}\")\n",
    "print(f\"Answer: {answer}\")"
   ]
  }
 ],
 "metadata": {
  "kernelspec": {
   "display_name": ".venv",
   "language": "python",
   "name": "python3"
  },
  "language_info": {
   "codemirror_mode": {
    "name": "ipython",
    "version": 3
   },
   "file_extension": ".py",
   "mimetype": "text/x-python",
   "name": "python",
   "nbconvert_exporter": "python",
   "pygments_lexer": "ipython3",
   "version": "3.11.9"
  }
 },
 "nbformat": 4,
 "nbformat_minor": 2
}
